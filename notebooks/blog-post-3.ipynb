{
 "cells": [
  {
   "cell_type": "markdown",
   "metadata": {},
   "source": [
    "# Blog Post 3: Model Pipeline, Individual Nuclei Segmentation, and Future Work\n",
    "\n",
    "In this post, we'll go over the following key points:\n",
    "\n",
    "1. comment on why we're not doing modality separation\n",
    "1. overview of our current pipeline\n",
    "    1. discuss our hand designed features\n",
    "    1. discuss our model choices\n",
    "    1. discuss our post processing and individual nucleus segmentation\n",
    "1. discuss our plan moving forward"
   ]
  },
  {
   "cell_type": "markdown",
   "metadata": {},
   "source": [
    "## about those modalities\n",
    "\n",
    "In our last post, we did intensive EDA on the different modalities in our training set.  While it ended up being very valuable work for understanding our data, we decided to abandon the separation of modalities here on out.\n",
    "\n",
    "See [this discussion post](https://www.kaggle.com/c/data-science-bowl-2018/discussion/47640) for some example images of the different training modalities.  In the same post, other Kagglers found that there are **different** modalities in the test set!  And the data curators revealed that there will be even more **different** modalities in the Stage 2 test set!!  As a result, we felt that any model depending on modality metadata would be insufficient for this task, so we are now focusing our efforts on a model that generalizes well for all modalities.\n",
    "\n",
    "One detail that we have to be careful of, however, is that some modalities have dark nuclei on white backgrounds, while some have bright nuclei on dark backgrounds.  In order to present our model with appropriate training data, we invert images found on white backgrounds.  Currently, we simply take the mean of an image, and if it's greater than a constant threshold, we invert."
   ]
  },
  {
   "cell_type": "markdown",
   "metadata": {},
   "source": [
    "## current pipeline\n",
    "\n",
    "The pipeline has a few steps:\n",
    "\n",
    "* read in data\n",
    "* preprocess and resize to the same shape (we're using (256 x 256))\n",
    "* expand each pixel's features from RGB to a set of hand-designed features\n",
    "* train a Regressor with Mini Batch SGD on pixel data (flatten all images to make a large corpus on pixels)\n",
    "* predict the regression output on each pixel in an image, to form a prediction for such an image\n",
    "* perform a local thresholding using a combination of otsu's binarization and non maximum supression\n",
    "* perform individual nucleus segmentation\n",
    "* submit and get $$$"
   ]
  },
  {
   "cell_type": "markdown",
   "metadata": {},
   "source": [
    "### reading data and preprocessing"
   ]
  },
  {
   "cell_type": "code",
   "execution_count": 7,
   "metadata": {},
   "outputs": [
    {
     "name": "stdout",
     "output_type": "stream",
     "text": [
      "The autoreload extension is already loaded. To reload it, use:\n",
      "  %reload_ext autoreload\n"
     ]
    }
   ],
   "source": [
    "import numpy as np\n",
    "import pandas as pd\n",
    "import pickle\n",
    "\n",
    "import matplotlib.pyplot as plt\n",
    "%matplotlib inline\n",
    "\n",
    "plt.rcParams[\"figure.figsize\"] = (10, 6)\n",
    "plt.rcParams[\"text.usetex\"] = True\n",
    "plt.rcParams[\"figure.dpi\"] = 50\n",
    "\n",
    "import sys\n",
    "sys.path.append(\"../\")\n",
    "\n",
    "%load_ext autoreload\n",
    "%autoreload 2"
   ]
  },
  {
   "cell_type": "code",
   "execution_count": 8,
   "metadata": {},
   "outputs": [
    {
     "name": "stderr",
     "output_type": "stream",
     "text": [
      "/Users/williamlevine/anaconda2/envs/py36/lib/python3.6/site-packages/sklearn/model_selection/_split.py:2026: FutureWarning: From version 0.21, test_size will always complement train_size unless both are specified.\n",
      "  FutureWarning)\n"
     ]
    }
   ],
   "source": [
    "from deton8.utils import DataReader\n",
    "from sklearn.model_selection import train_test_split\n",
    "\n",
    "training = DataReader(\"../data/training/\")\n",
    "train_metadata, x_train = training.get()\n",
    "\n",
    "y_train = np.stack(training.masks)\n",
    "train_metadata, val_metadata, x_train, x_val, y_train, y_val = train_test_split(train_metadata, x_train, y_train, train_size = 0.8)"
   ]
  },
  {
   "cell_type": "markdown",
   "metadata": {},
   "source": [
    "### basis transformation\n",
    "\n",
    "The first step in our pipeline relies on transforming the pixels from our original RGB feature space to an expanded space of 9 hand-designed features.  In the following cells, we'll present some examples of our chosen features.  Here's a listing:\n",
    "\n",
    "1. Red Channel\n",
    "2. Green Channel\n",
    "3. Blue Channel\n",
    "4. pixel's z-score w.r.t image\n",
    "5. bilateral filter\n",
    "6. average of RGB Channels after a rescaling between 2% and 98% of the full range\n",
    "7. average of RGB Channels after a Contrast Limited Adaptive Histogram Equalization\n",
    "8. average of RGB Channels after a dilation\n",
    "9. pixel's mean distance from it's 8-connectivity neighbors using the previous 8 features as dimensions"
   ]
  },
  {
   "cell_type": "code",
   "execution_count": null,
   "metadata": {
    "collapsed": true
   },
   "outputs": [],
   "source": [
    "from deton8.computer_vision import ColorMatcher\n",
    "cm = ColorMatcher()\n",
    "x_train_preprocessed = cm.fit_transform(np.expand_dims(x_train[9], axis = 0), x_train)"
   ]
  },
  {
   "cell_type": "code",
   "execution_count": null,
   "metadata": {
    "collapsed": true
   },
   "outputs": [],
   "source": [
    "x_val_preprocessed = cm.fit_transform(np.expand_dims(x_train[9], axis = 0), x_val)"
   ]
  },
  {
   "cell_type": "code",
   "execution_count": null,
   "metadata": {
    "collapsed": true
   },
   "outputs": [],
   "source": [
    "from deton8.analytical import BasisTransformer\n",
    "transformer = BasisTransformer()\n",
    "x_train_transformed = transformer.fit_transform(np.array(x_train_preprocessed))"
   ]
  },
  {
   "cell_type": "code",
   "execution_count": null,
   "metadata": {
    "collapsed": true
   },
   "outputs": [],
   "source": [
    "x_val_transformed = transformer.fit_transform(np.array(x_val_preprocessed))"
   ]
  },
  {
   "cell_type": "code",
   "execution_count": null,
   "metadata": {
    "collapsed": true
   },
   "outputs": [],
   "source": [
    "img = x_val_transformed[100]"
   ]
  },
  {
   "cell_type": "markdown",
   "metadata": {},
   "source": [
    "#### z-score\n",
    "\n",
    "We first take the average of the image channels and then compute a pixel's deviation from the overall mean divided by the overall standard deviation.  Observe some images below."
   ]
  },
  {
   "cell_type": "code",
   "execution_count": null,
   "metadata": {
    "collapsed": true
   },
   "outputs": [],
   "source": [
    "plt.subplot(121)\n",
    "plt.imshow(img[:, :, 0])\n",
    "plt.title(\"original\")\n",
    "plt.subplot(122)\n",
    "plt.imshow(img[:, :, 3])\n",
    "plt.title(\"z-score\")"
   ]
  },
  {
   "cell_type": "markdown",
   "metadata": {},
   "source": [
    "We chose to include this feature as it provides a clear contrast between light pixels which represent nuclei and the background of the image."
   ]
  },
  {
   "cell_type": "markdown",
   "metadata": {},
   "source": [
    "#### bilateral filter\n",
    "\n",
    "A bilateral filter is an edge preserving filter that reduces noise in an image.  We chose to include this filter because it will preserve the edges of our nuclei while smoothing brightness into somewhat darker areas of the nuclei."
   ]
  },
  {
   "cell_type": "code",
   "execution_count": null,
   "metadata": {
    "collapsed": true
   },
   "outputs": [],
   "source": [
    "plt.subplot(121)\n",
    "plt.imshow(img[:, :, 0])\n",
    "plt.title(\"original\")\n",
    "plt.subplot(122)\n",
    "plt.imshow(img[:, :, 4])\n",
    "plt.title(\"bilateral filter\")"
   ]
  },
  {
   "cell_type": "markdown",
   "metadata": {},
   "source": [
    "#### rescaling\n",
    "\n",
    "This feature takes the 2nd and 98th percentile of an image and rescales the values to be in this range.  The effect is an increase of \n",
    "contrast, since all values from the 98th to the 100th percentile are set to the maximum value and all values from the 0th to the 2nd percentile are set to the minimum value.  It also stretches the values inside the 2nd to 98th percentile a bit.  As we can see, the effect is quite desirable.  Our true nuclei are amplified, and noise around the nuclei isn't too drastically."
   ]
  },
  {
   "cell_type": "code",
   "execution_count": null,
   "metadata": {
    "collapsed": true
   },
   "outputs": [],
   "source": [
    "plt.subplot(121)\n",
    "plt.imshow(img[:, :, 0])\n",
    "plt.title(\"original\")\n",
    "plt.subplot(122)\n",
    "plt.imshow(img[:, :, 5])\n",
    "plt.title(\"rescaling\")"
   ]
  },
  {
   "cell_type": "markdown",
   "metadata": {},
   "source": [
    "#### CL AHE\n",
    "\n",
    "This feature performs a Contrast Limited Adaptive Histogram Equalization, which is quite a mouthful.  Conceptually we can think of this method as performing a sort of local rescaling -- which is quite attractive to us.  We increase the contrast in a local region rather than a global region, which will exclude that large portion of background \"zeros\".  The \"Contrast Limited\" portion takes the adaptive (local) histogram and will \"clip\" bins at a certain threshold, redistributing weight to the other bins equally.  Refer to [this wikipedia article](https://en.wikipedia.org/wiki/Adaptive_histogram_equalization) for more details."
   ]
  },
  {
   "cell_type": "code",
   "execution_count": null,
   "metadata": {
    "collapsed": true
   },
   "outputs": [],
   "source": [
    "plt.subplot(121)\n",
    "plt.imshow(img[:, :, 0])\n",
    "plt.title(\"original\")\n",
    "plt.subplot(122)\n",
    "plt.imshow(img[:, :, 6])\n",
    "plt.title(\"cl ahe\")"
   ]
  },
  {
   "cell_type": "markdown",
   "metadata": {},
   "source": [
    "#### dilation\n",
    "\n",
    "This features dialates bright areas in an image.  Here we use a structuring element of a large matrix of ones, but we may experiment with a disk element to dilate more naturally for nuclei.  It seems that we have somewhat of a strange effect on the image below.  However, we like this feature since it provides a region around the nuclei which decays in magnitude as it gets further from the center of a nucleus."
   ]
  },
  {
   "cell_type": "code",
   "execution_count": null,
   "metadata": {
    "collapsed": true
   },
   "outputs": [],
   "source": [
    "plt.subplot(121)\n",
    "plt.imshow(img[:, :, 0])\n",
    "plt.title(\"original\")\n",
    "plt.subplot(122)\n",
    "plt.imshow(img[:, :, 7])\n",
    "plt.title(\"dilation results\")"
   ]
  },
  {
   "cell_type": "markdown",
   "metadata": {},
   "source": [
    "### Training\n",
    "\n",
    "We have 670 images in our training set and we resize each image to be 256 x 256.  Since we're simply training our models with our basis transformed pixels, we have 670 * 256 * 256 points at this point in our training task.  Since this is over 43 million data points, we're not going to be able to train this dataset at once, so we'll have to rely on online, or mini-batch learning.  \n",
    "\n",
    "So, we've restricted ourselves to two regressors from `scikit-learn`, the `SGDRegressor` using an elastic net penalty, and the `PassiveAggressiveRegressor`.  Both regressors support mini-batch learning.\n",
    "\n",
    "We chose to frame this problem as a regression problem so we predict \"probabilities\" and then perform the local thresholding to determine how to binarize ourselves."
   ]
  },
  {
   "cell_type": "code",
   "execution_count": 9,
   "metadata": {},
   "outputs": [
    {
     "ename": "NameError",
     "evalue": "name 'x_train_transformed' is not defined",
     "output_type": "error",
     "traceback": [
      "\u001b[0;31m---------------------------------------------------------------------------\u001b[0m",
      "\u001b[0;31mNameError\u001b[0m                                 Traceback (most recent call last)",
      "\u001b[0;32m<ipython-input-9-515bfa077793>\u001b[0m in \u001b[0;36m<module>\u001b[0;34m()\u001b[0m\n\u001b[1;32m      3\u001b[0m \u001b[0my_dev\u001b[0m \u001b[0;34m=\u001b[0m \u001b[0my_train\u001b[0m\u001b[0;34m\u001b[0m\u001b[0m\n\u001b[1;32m      4\u001b[0m \u001b[0;34m\u001b[0m\u001b[0m\n\u001b[0;32m----> 5\u001b[0;31m \u001b[0mx_dev_flat\u001b[0m\u001b[0;34m,\u001b[0m \u001b[0my_dev_flat\u001b[0m \u001b[0;34m=\u001b[0m \u001b[0mflatten_data\u001b[0m\u001b[0;34m(\u001b[0m\u001b[0mx_train_transformed\u001b[0m\u001b[0;34m,\u001b[0m \u001b[0my_dev\u001b[0m\u001b[0;34m,\u001b[0m \u001b[0mskip\u001b[0m\u001b[0;34m=\u001b[0m\u001b[0;36m1\u001b[0m\u001b[0;34m)\u001b[0m\u001b[0;34m\u001b[0m\u001b[0m\n\u001b[0m\u001b[1;32m      6\u001b[0m \u001b[0mx_val_flat\u001b[0m\u001b[0;34m,\u001b[0m \u001b[0my_val_flat\u001b[0m \u001b[0;34m=\u001b[0m \u001b[0mflatten_data\u001b[0m\u001b[0;34m(\u001b[0m\u001b[0mx_val_transformed\u001b[0m\u001b[0;34m,\u001b[0m \u001b[0my_val\u001b[0m\u001b[0;34m,\u001b[0m \u001b[0mskip\u001b[0m\u001b[0;34m=\u001b[0m\u001b[0;36m1\u001b[0m\u001b[0;34m)\u001b[0m\u001b[0;34m\u001b[0m\u001b[0m\n",
      "\u001b[0;31mNameError\u001b[0m: name 'x_train_transformed' is not defined"
     ]
    }
   ],
   "source": [
    "from deton8.utils import flatten_data\n",
    "\n",
    "y_dev = y_train\n",
    "\n",
    "x_dev_flat, y_dev_flat = flatten_data(x_train_transformed, y_dev, skip=1)\n",
    "x_val_flat, y_val_flat = flatten_data(x_val_transformed, y_val, skip=1)"
   ]
  },
  {
   "cell_type": "code",
   "execution_count": null,
   "metadata": {
    "collapsed": true
   },
   "outputs": [],
   "source": [
    "from deton8.models import MiniBatchRegressor\n",
    "from sklearn.linear_model import SGDRegressor, PassiveAggressiveRegressor\n",
    "from tqdm import tqdm_notebook as tqdm\n",
    "\n",
    "sgd_regressor = MiniBatchRegressor(\n",
    "    regressor=SGDRegressor(penalty='elasticnet', l1_ratio=0.11),\n",
    "    batch_size=1000,\n",
    "    num_iters=50000,\n",
    "    tqdm=tqdm\n",
    ")\n",
    "\n",
    "sgd_regressor.fit(x_dev_flat, y_dev_flat)"
   ]
  },
  {
   "cell_type": "code",
   "execution_count": null,
   "metadata": {
    "collapsed": true
   },
   "outputs": [],
   "source": [
    "from sklearn.linear_model import PassiveAggressiveRegressor\n",
    "\n",
    "pa_regressor = MiniBatchRegressor(\n",
    "    regressor=PassiveAggressiveRegressor(C = .2),\n",
    "    batch_size=1000,\n",
    "    num_iters=1000,\n",
    "    tqdm=tqdm\n",
    ")\n",
    "\n",
    "pa_regressor.fit(x_dev_flat, y_dev_flat)"
   ]
  },
  {
   "cell_type": "code",
   "execution_count": null,
   "metadata": {
    "collapsed": true
   },
   "outputs": [],
   "source": [
    "from deton8.visualization import plot_prediction"
   ]
  },
  {
   "cell_type": "code",
   "execution_count": null,
   "metadata": {
    "collapsed": true
   },
   "outputs": [],
   "source": [
    "num = 100\n",
    "plot_prediction(sgd_regressor, x_val_transformed[num], y_val[num])\n",
    "plot_prediction(pa_regressor, x_val_transformed[num], y_val[num])"
   ]
  },
  {
   "cell_type": "code",
   "execution_count": null,
   "metadata": {
    "collapsed": true
   },
   "outputs": [],
   "source": [
    "num = 2\n",
    "plot_prediction(sgd_regressor, x_val_transformed[num], y_val[num])\n",
    "plot_prediction(pa_regressor, x_val_transformed[num], y_val[num])"
   ]
  },
  {
   "cell_type": "code",
   "execution_count": null,
   "metadata": {
    "collapsed": true
   },
   "outputs": [],
   "source": [
    "num = 5\n",
    "plot_prediction(sgd_regressor, x_val_transformed[num], y_val[num])\n",
    "plot_prediction(pa_regressor, x_val_transformed[num], y_val[num])"
   ]
  },
  {
   "cell_type": "markdown",
   "metadata": {},
   "source": [
    "# UNet\n",
    "By qualitative inspection, we recognized that the `Passive Aggressive Regressor` and `SGD Regressor` both did well on most datasets, with each model performing better than the other on certain images. Thus, we decided to create a `UNet` with these regressors' outputs as the pixel features. Below we stack these regressors' outputs as features and preprocess the data:"
   ]
  },
  {
   "cell_type": "code",
   "execution_count": null,
   "metadata": {
    "collapsed": true
   },
   "outputs": [],
   "source": [
    "x_dev_extended = np.zeros((len(x_dev), 256, 256, 2))\n",
    "x_dev_extended[:, :, :, 0] = sgd_regressor.predict_images(x_train_transformed)\n",
    "x_dev_extended[:, :, :, 1] = pa_regressor.predict_images(x_train_transformed)"
   ]
  },
  {
   "cell_type": "code",
   "execution_count": null,
   "metadata": {
    "collapsed": true
   },
   "outputs": [],
   "source": [
    "x_val_extended = np.zeros((len(x_val), 256, 256, 2))\n",
    "x_val_extended[:, :, :, 0] = sgd_regressor.predict_images(x_val_transformed)\n",
    "x_val_extended[:, :, :, 1] = pa_regressor.predict_images(x_val_transformed)"
   ]
  },
  {
   "cell_type": "code",
   "execution_count": 99,
   "metadata": {},
   "outputs": [
    {
     "name": "stderr",
     "output_type": "stream",
     "text": [
      "100%|██████████| 536/536 [00:24<00:00, 21.59pair/s]\n",
      "100%|██████████| 134/134 [00:06<00:00, 21.80pair/s]\n"
     ]
    }
   ],
   "source": [
    "from deton8.preprocess import preprocess\n",
    "x_train_extended = preprocess(x_train)\n",
    "x_val_extended = preprocess(x_val)"
   ]
  },
  {
   "cell_type": "code",
   "execution_count": 178,
   "metadata": {
    "collapsed": true
   },
   "outputs": [],
   "source": [
    "from keras.models import Model\n",
    "from keras.layers import *\n",
    "from keras.optimizers import Adam, RMSprop\n",
    "from keras.regularizers import l2\n",
    "from keras.preprocessing.image import ImageDataGenerator\n",
    "import keras.backend as K\n",
    "from keras.callbacks import LearningRateScheduler, ModelCheckpoint"
   ]
  },
  {
   "cell_type": "markdown",
   "metadata": {},
   "source": [
    "We also decided to use a generator to reduce overfitting. We used Keras' standard ImageDataGenerator to do so:"
   ]
  },
  {
   "cell_type": "code",
   "execution_count": 101,
   "metadata": {
    "collapsed": true
   },
   "outputs": [],
   "source": [
    "def my_generator(x_train, y_train, batch_size):\n",
    "    data_generator = ImageDataGenerator(\n",
    "            horizontal_flip=True, \n",
    "            vertical_flip=True,\n",
    "            zoom_range=0.2,\n",
    "            shear_range=0.2).flow(x_train, x_train, batch_size, seed=42)\n",
    "    mask_generator = ImageDataGenerator(\n",
    "            horizontal_flip=True, \n",
    "            vertical_flip=True,\n",
    "            zoom_range=0.2,\n",
    "            shear_range=0.2).flow(y_train, y_train, batch_size, seed=42)\n",
    "    while True:\n",
    "        x_batch, _ = data_generator.next()\n",
    "        y_batch, _ = mask_generator.next()\n",
    "        yield x_batch, y_batch"
   ]
  },
  {
   "cell_type": "markdown",
   "metadata": {},
   "source": [
    "For metrics, we decided to use pixel-wise dice coefficient and F1. We also describe the architecture of the UNet Below"
   ]
  },
  {
   "cell_type": "code",
   "execution_count": 180,
   "metadata": {
    "collapsed": true,
    "scrolled": true
   },
   "outputs": [],
   "source": [
    "def dice_coef(y_true, y_pred):\n",
    "    smooth = .1\n",
    "    y_true_f = K.flatten(y_true)\n",
    "    y_pred_f = K.flatten(y_pred)\n",
    "    intersection = K.sum(y_true_f * y_pred_f)\n",
    "    return (2. * intersection + smooth) / (K.sum(y_true_f) + K.sum(y_pred_f) + smooth)\n",
    "\n",
    "def f1(y_true, y_pred):\n",
    "    def recall(y_true, y_pred):\n",
    "        \"\"\"Recall metric.\n",
    "\n",
    "        Only computes a batch-wise average of recall.\n",
    "\n",
    "        Computes the recall, a metric for multi-label classification of\n",
    "        how many relevant items are selected.\n",
    "        \"\"\"\n",
    "        true_positives = K.sum(K.round(K.clip(y_true * y_pred, 0, 1)))\n",
    "        possible_positives = K.sum(K.round(K.clip(y_true, 0, 1)))\n",
    "        recall = true_positives / (possible_positives + K.epsilon())\n",
    "        return recall\n",
    "\n",
    "    def precision(y_true, y_pred):\n",
    "        \"\"\"Precision metric.\n",
    "\n",
    "        Only computes a batch-wise average of precision.\n",
    "\n",
    "        Computes the precision, a metric for multi-label classification of\n",
    "        how many selected items are relevant.\n",
    "        \"\"\"\n",
    "        true_positives = K.sum(K.round(K.clip(y_true * y_pred, 0, 1)))\n",
    "        predicted_positives = K.sum(K.round(K.clip(y_pred, 0, 1)))\n",
    "        precision = true_positives / (predicted_positives + K.epsilon())\n",
    "        return precision\n",
    "    precision = precision(y_true, y_pred)\n",
    "    recall = recall(y_true, y_pred)\n",
    "    return 2*((precision*recall)/(precision+recall+K.epsilon()))\n",
    "\n",
    "input_layer = Input(shape=x_train_extended.shape[1:])\n",
    "c1 = Conv2D(filters=8, kernel_size=(3,3), activation='relu', padding='same')(input_layer)\n",
    "l = MaxPool2D(strides=(2,2))(c1)\n",
    "c2 = Conv2D(filters=16, kernel_size=(3,3), activation='relu', padding='same')(l)\n",
    "l = MaxPool2D(strides=(2,2))(c2)\n",
    "c3 = Conv2D(filters=32, kernel_size=(3,3), activation='relu', padding='same')(l)\n",
    "l = MaxPool2D(strides=(2,2))(c3)\n",
    "c4 = Conv2D(filters=32, kernel_size=(1,1), activation='relu', padding='same')(l)\n",
    "l = concatenate([UpSampling2D(size=(2,2))(c4), c3], axis=-1)\n",
    "l = Conv2D(filters=32, kernel_size=(2,2), activation='relu', padding='same')(l)\n",
    "l = concatenate([UpSampling2D(size=(2,2))(l), c2], axis=-1)\n",
    "l = Conv2D(filters=24, kernel_size=(2,2), activation='relu', padding='same')(l)\n",
    "l = concatenate([UpSampling2D(size=(2,2))(l), c1], axis=-1)\n",
    "l = Conv2D(filters=16, kernel_size=(2,2), activation='relu', padding='same')(l)\n",
    "l = Conv2D(filters=64, kernel_size=(1,1), activation='relu')(l)\n",
    "l = Dropout(0.5)(l)\n",
    "output_layer = Conv2D(filters=1, kernel_size=(1,1), activation='sigmoid')(l)\n",
    "                                                         \n",
    "model_regress = Model(input_layer, output_layer)"
   ]
  },
  {
   "cell_type": "markdown",
   "metadata": {},
   "source": [
    "For the UNet, we decided to use the negative dice coefficient as loss with RMSProp for optimization"
   ]
  },
  {
   "cell_type": "code",
   "execution_count": 184,
   "metadata": {
    "collapsed": true
   },
   "outputs": [],
   "source": [
    "import tensorflow as tf\n",
    "def dice_coef_loss(y_true, y_pred):\n",
    "    return -1*dice_coef(y_true, y_pred)\n",
    "\n",
    "model_regress.compile(optimizer=RMSprop(0.0002), loss=dice_coef_loss, metrics=[dice_coef, f1])"
   ]
  },
  {
   "cell_type": "code",
   "execution_count": 187,
   "metadata": {
    "collapsed": true
   },
   "outputs": [],
   "source": [
    "model_regress.save_weights(\"../weights/unet_weights.h5\")"
   ]
  },
  {
   "cell_type": "code",
   "execution_count": 186,
   "metadata": {},
   "outputs": [
    {
     "name": "stdout",
     "output_type": "stream",
     "text": [
      "Epoch 1/500\n"
     ]
    },
    {
     "name": "stderr",
     "output_type": "stream",
     "text": [
      "/Users/williamlevine/anaconda2/envs/py36/lib/python3.6/site-packages/keras/preprocessing/image.py:935: UserWarning: NumpyArrayIterator is set to use the data format convention \"channels_last\" (channels on axis 3), i.e. expected either 1, 3 or 4 channels on axis 3. However, it was passed an array with shape (536, 256, 256, 2) (2 channels).\n",
      "  ' (' + str(self.x.shape[channels_axis]) + ' channels).')\n"
     ]
    },
    {
     "name": "stdout",
     "output_type": "stream",
     "text": [
      "25/25 [==============================] - 71s 3s/step - loss: -0.8676 - dice_coef: 0.8676 - f1: 0.8749 - val_loss: -0.8897 - val_dice_coef: 0.8897 - val_f1: 0.8917\n",
      "Epoch 2/500\n",
      "25/25 [==============================] - 83s 3s/step - loss: -0.8693 - dice_coef: 0.8693 - f1: 0.8779 - val_loss: -0.8898 - val_dice_coef: 0.8898 - val_f1: 0.8917\n",
      "Epoch 3/500\n",
      "25/25 [==============================] - 61s 2s/step - loss: -0.8733 - dice_coef: 0.8733 - f1: 0.8809 - val_loss: -0.8901 - val_dice_coef: 0.8901 - val_f1: 0.8921\n",
      "Epoch 4/500\n",
      "25/25 [==============================] - 58s 2s/step - loss: -0.8650 - dice_coef: 0.8650 - f1: 0.8731 - val_loss: -0.8900 - val_dice_coef: 0.8900 - val_f1: 0.8920\n",
      "Epoch 5/500\n",
      "25/25 [==============================] - 60s 2s/step - loss: -0.8675 - dice_coef: 0.8675 - f1: 0.8760 - val_loss: -0.8900 - val_dice_coef: 0.8900 - val_f1: 0.8920\n",
      "Epoch 6/500\n",
      "25/25 [==============================] - 57s 2s/step - loss: -0.8515 - dice_coef: 0.8515 - f1: 0.8591 - val_loss: -0.8903 - val_dice_coef: 0.8903 - val_f1: 0.8922\n",
      "Epoch 7/500\n",
      "25/25 [==============================] - 57s 2s/step - loss: -0.8821 - dice_coef: 0.8821 - f1: 0.8909 - val_loss: -0.8902 - val_dice_coef: 0.8902 - val_f1: 0.8922\n",
      "Epoch 8/500\n",
      "25/25 [==============================] - 60s 2s/step - loss: -0.8619 - dice_coef: 0.8619 - f1: 0.8697 - val_loss: -0.8903 - val_dice_coef: 0.8903 - val_f1: 0.8923\n",
      "Epoch 9/500\n",
      "25/25 [==============================] - 57s 2s/step - loss: -0.8657 - dice_coef: 0.8657 - f1: 0.8738 - val_loss: -0.8906 - val_dice_coef: 0.8906 - val_f1: 0.8926\n",
      "Epoch 10/500\n",
      "25/25 [==============================] - 57s 2s/step - loss: -0.8698 - dice_coef: 0.8698 - f1: 0.8775 - val_loss: -0.8903 - val_dice_coef: 0.8903 - val_f1: 0.8923\n",
      "Epoch 11/500\n",
      "25/25 [==============================] - 60s 2s/step - loss: -0.8714 - dice_coef: 0.8714 - f1: 0.8807 - val_loss: -0.8904 - val_dice_coef: 0.8904 - val_f1: 0.8924\n",
      "Epoch 12/500\n",
      "25/25 [==============================] - 57s 2s/step - loss: -0.8482 - dice_coef: 0.8482 - f1: 0.8565 - val_loss: -0.8904 - val_dice_coef: 0.8904 - val_f1: 0.8924\n",
      "Epoch 13/500\n",
      "25/25 [==============================] - 57s 2s/step - loss: -0.8839 - dice_coef: 0.8839 - f1: 0.8922 - val_loss: -0.8903 - val_dice_coef: 0.8903 - val_f1: 0.8923\n",
      "Epoch 14/500\n",
      "25/25 [==============================] - 60s 2s/step - loss: -0.8688 - dice_coef: 0.8688 - f1: 0.8770 - val_loss: -0.8907 - val_dice_coef: 0.8907 - val_f1: 0.8927\n",
      "Epoch 15/500\n",
      "25/25 [==============================] - 59s 2s/step - loss: -0.8758 - dice_coef: 0.8758 - f1: 0.8843 - val_loss: -0.8910 - val_dice_coef: 0.8910 - val_f1: 0.8930\n",
      "Epoch 16/500\n",
      "25/25 [==============================] - 59s 2s/step - loss: -0.8685 - dice_coef: 0.8685 - f1: 0.8772 - val_loss: -0.8909 - val_dice_coef: 0.8909 - val_f1: 0.8930\n",
      "Epoch 17/500\n",
      "25/25 [==============================] - 57s 2s/step - loss: -0.8592 - dice_coef: 0.8592 - f1: 0.8680 - val_loss: -0.8908 - val_dice_coef: 0.8908 - val_f1: 0.8928\n",
      "Epoch 18/500\n",
      "25/25 [==============================] - 57s 2s/step - loss: -0.8817 - dice_coef: 0.8817 - f1: 0.8900 - val_loss: -0.8906 - val_dice_coef: 0.8906 - val_f1: 0.8926\n",
      "Epoch 19/500\n",
      "25/25 [==============================] - 57s 2s/step - loss: -0.8533 - dice_coef: 0.8533 - f1: 0.8615 - val_loss: -0.8909 - val_dice_coef: 0.8909 - val_f1: 0.8930\n",
      "Epoch 20/500\n",
      "25/25 [==============================] - 57s 2s/step - loss: -0.8814 - dice_coef: 0.8814 - f1: 0.8900 - val_loss: -0.8915 - val_dice_coef: 0.8915 - val_f1: 0.8935\n",
      "Epoch 21/500\n",
      "25/25 [==============================] - 57s 2s/step - loss: -0.8536 - dice_coef: 0.8536 - f1: 0.8621 - val_loss: -0.8918 - val_dice_coef: 0.8918 - val_f1: 0.8938\n",
      "Epoch 22/500\n",
      "25/25 [==============================] - 61s 2s/step - loss: -0.8793 - dice_coef: 0.8793 - f1: 0.8883 - val_loss: -0.8915 - val_dice_coef: 0.8915 - val_f1: 0.8935\n",
      "Epoch 23/500\n",
      "25/25 [==============================] - 66s 3s/step - loss: -0.8670 - dice_coef: 0.8670 - f1: 0.8751 - val_loss: -0.8914 - val_dice_coef: 0.8914 - val_f1: 0.8935\n",
      "Epoch 24/500\n",
      "25/25 [==============================] - 66s 3s/step - loss: -0.8560 - dice_coef: 0.8560 - f1: 0.8646 - val_loss: -0.8914 - val_dice_coef: 0.8914 - val_f1: 0.8935\n",
      "Epoch 25/500\n",
      " 4/25 [===>..........................] - ETA: 45s - loss: -0.8806 - dice_coef: 0.8806 - f1: 0.8897"
     ]
    },
    {
     "ename": "KeyboardInterrupt",
     "evalue": "",
     "output_type": "error",
     "traceback": [
      "\u001b[0;31m---------------------------------------------------------------------------\u001b[0m",
      "\u001b[0;31mKeyboardInterrupt\u001b[0m                         Traceback (most recent call last)",
      "\u001b[0;32m<ipython-input-186-7cd61da39e32>\u001b[0m in \u001b[0;36m<module>\u001b[0;34m()\u001b[0m\n\u001b[1;32m      2\u001b[0m                            \u001b[0msteps_per_epoch\u001b[0m \u001b[0;34m=\u001b[0m \u001b[0;36m25\u001b[0m\u001b[0;34m,\u001b[0m\u001b[0;34m\u001b[0m\u001b[0m\n\u001b[1;32m      3\u001b[0m                            \u001b[0mvalidation_data\u001b[0m \u001b[0;34m=\u001b[0m \u001b[0;34m(\u001b[0m\u001b[0mx_val_extended\u001b[0m\u001b[0;34m,\u001b[0m \u001b[0mnp\u001b[0m\u001b[0;34m.\u001b[0m\u001b[0mexpand_dims\u001b[0m\u001b[0;34m(\u001b[0m\u001b[0my_val\u001b[0m\u001b[0;34m,\u001b[0m \u001b[0maxis\u001b[0m \u001b[0;34m=\u001b[0m \u001b[0;36m3\u001b[0m\u001b[0;34m)\u001b[0m\u001b[0;34m)\u001b[0m\u001b[0;34m,\u001b[0m\u001b[0;34m\u001b[0m\u001b[0m\n\u001b[0;32m----> 4\u001b[0;31m                            epochs=500, verbose=True)\n\u001b[0m",
      "\u001b[0;32m~/anaconda2/envs/py36/lib/python3.6/site-packages/keras/legacy/interfaces.py\u001b[0m in \u001b[0;36mwrapper\u001b[0;34m(*args, **kwargs)\u001b[0m\n\u001b[1;32m     89\u001b[0m                 warnings.warn('Update your `' + object_name +\n\u001b[1;32m     90\u001b[0m                               '` call to the Keras 2 API: ' + signature, stacklevel=2)\n\u001b[0;32m---> 91\u001b[0;31m             \u001b[0;32mreturn\u001b[0m \u001b[0mfunc\u001b[0m\u001b[0;34m(\u001b[0m\u001b[0;34m*\u001b[0m\u001b[0margs\u001b[0m\u001b[0;34m,\u001b[0m \u001b[0;34m**\u001b[0m\u001b[0mkwargs\u001b[0m\u001b[0;34m)\u001b[0m\u001b[0;34m\u001b[0m\u001b[0m\n\u001b[0m\u001b[1;32m     92\u001b[0m         \u001b[0mwrapper\u001b[0m\u001b[0;34m.\u001b[0m\u001b[0m_original_function\u001b[0m \u001b[0;34m=\u001b[0m \u001b[0mfunc\u001b[0m\u001b[0;34m\u001b[0m\u001b[0m\n\u001b[1;32m     93\u001b[0m         \u001b[0;32mreturn\u001b[0m \u001b[0mwrapper\u001b[0m\u001b[0;34m\u001b[0m\u001b[0m\n",
      "\u001b[0;32m~/anaconda2/envs/py36/lib/python3.6/site-packages/keras/engine/training.py\u001b[0m in \u001b[0;36mfit_generator\u001b[0;34m(self, generator, steps_per_epoch, epochs, verbose, callbacks, validation_data, validation_steps, class_weight, max_queue_size, workers, use_multiprocessing, shuffle, initial_epoch)\u001b[0m\n\u001b[1;32m   2222\u001b[0m                     outs = self.train_on_batch(x, y,\n\u001b[1;32m   2223\u001b[0m                                                \u001b[0msample_weight\u001b[0m\u001b[0;34m=\u001b[0m\u001b[0msample_weight\u001b[0m\u001b[0;34m,\u001b[0m\u001b[0;34m\u001b[0m\u001b[0m\n\u001b[0;32m-> 2224\u001b[0;31m                                                class_weight=class_weight)\n\u001b[0m\u001b[1;32m   2225\u001b[0m \u001b[0;34m\u001b[0m\u001b[0m\n\u001b[1;32m   2226\u001b[0m                     \u001b[0;32mif\u001b[0m \u001b[0;32mnot\u001b[0m \u001b[0misinstance\u001b[0m\u001b[0;34m(\u001b[0m\u001b[0mouts\u001b[0m\u001b[0;34m,\u001b[0m \u001b[0mlist\u001b[0m\u001b[0;34m)\u001b[0m\u001b[0;34m:\u001b[0m\u001b[0;34m\u001b[0m\u001b[0m\n",
      "\u001b[0;32m~/anaconda2/envs/py36/lib/python3.6/site-packages/keras/engine/training.py\u001b[0m in \u001b[0;36mtrain_on_batch\u001b[0;34m(self, x, y, sample_weight, class_weight)\u001b[0m\n\u001b[1;32m   1881\u001b[0m             \u001b[0mins\u001b[0m \u001b[0;34m=\u001b[0m \u001b[0mx\u001b[0m \u001b[0;34m+\u001b[0m \u001b[0my\u001b[0m \u001b[0;34m+\u001b[0m \u001b[0msample_weights\u001b[0m\u001b[0;34m\u001b[0m\u001b[0m\n\u001b[1;32m   1882\u001b[0m         \u001b[0mself\u001b[0m\u001b[0;34m.\u001b[0m\u001b[0m_make_train_function\u001b[0m\u001b[0;34m(\u001b[0m\u001b[0;34m)\u001b[0m\u001b[0;34m\u001b[0m\u001b[0m\n\u001b[0;32m-> 1883\u001b[0;31m         \u001b[0moutputs\u001b[0m \u001b[0;34m=\u001b[0m \u001b[0mself\u001b[0m\u001b[0;34m.\u001b[0m\u001b[0mtrain_function\u001b[0m\u001b[0;34m(\u001b[0m\u001b[0mins\u001b[0m\u001b[0;34m)\u001b[0m\u001b[0;34m\u001b[0m\u001b[0m\n\u001b[0m\u001b[1;32m   1884\u001b[0m         \u001b[0;32mif\u001b[0m \u001b[0mlen\u001b[0m\u001b[0;34m(\u001b[0m\u001b[0moutputs\u001b[0m\u001b[0;34m)\u001b[0m \u001b[0;34m==\u001b[0m \u001b[0;36m1\u001b[0m\u001b[0;34m:\u001b[0m\u001b[0;34m\u001b[0m\u001b[0m\n\u001b[1;32m   1885\u001b[0m             \u001b[0;32mreturn\u001b[0m \u001b[0moutputs\u001b[0m\u001b[0;34m[\u001b[0m\u001b[0;36m0\u001b[0m\u001b[0;34m]\u001b[0m\u001b[0;34m\u001b[0m\u001b[0m\n",
      "\u001b[0;32m~/anaconda2/envs/py36/lib/python3.6/site-packages/keras/backend/tensorflow_backend.py\u001b[0m in \u001b[0;36m__call__\u001b[0;34m(self, inputs)\u001b[0m\n\u001b[1;32m   2476\u001b[0m         \u001b[0msession\u001b[0m \u001b[0;34m=\u001b[0m \u001b[0mget_session\u001b[0m\u001b[0;34m(\u001b[0m\u001b[0;34m)\u001b[0m\u001b[0;34m\u001b[0m\u001b[0m\n\u001b[1;32m   2477\u001b[0m         updated = session.run(fetches=fetches, feed_dict=feed_dict,\n\u001b[0;32m-> 2478\u001b[0;31m                               **self.session_kwargs)\n\u001b[0m\u001b[1;32m   2479\u001b[0m         \u001b[0;32mreturn\u001b[0m \u001b[0mupdated\u001b[0m\u001b[0;34m[\u001b[0m\u001b[0;34m:\u001b[0m\u001b[0mlen\u001b[0m\u001b[0;34m(\u001b[0m\u001b[0mself\u001b[0m\u001b[0;34m.\u001b[0m\u001b[0moutputs\u001b[0m\u001b[0;34m)\u001b[0m\u001b[0;34m]\u001b[0m\u001b[0;34m\u001b[0m\u001b[0m\n\u001b[1;32m   2480\u001b[0m \u001b[0;34m\u001b[0m\u001b[0m\n",
      "\u001b[0;32m~/anaconda2/envs/py36/lib/python3.6/site-packages/tensorflow/python/client/session.py\u001b[0m in \u001b[0;36mrun\u001b[0;34m(self, fetches, feed_dict, options, run_metadata)\u001b[0m\n\u001b[1;32m    903\u001b[0m     \u001b[0;32mtry\u001b[0m\u001b[0;34m:\u001b[0m\u001b[0;34m\u001b[0m\u001b[0m\n\u001b[1;32m    904\u001b[0m       result = self._run(None, fetches, feed_dict, options_ptr,\n\u001b[0;32m--> 905\u001b[0;31m                          run_metadata_ptr)\n\u001b[0m\u001b[1;32m    906\u001b[0m       \u001b[0;32mif\u001b[0m \u001b[0mrun_metadata\u001b[0m\u001b[0;34m:\u001b[0m\u001b[0;34m\u001b[0m\u001b[0m\n\u001b[1;32m    907\u001b[0m         \u001b[0mproto_data\u001b[0m \u001b[0;34m=\u001b[0m \u001b[0mtf_session\u001b[0m\u001b[0;34m.\u001b[0m\u001b[0mTF_GetBuffer\u001b[0m\u001b[0;34m(\u001b[0m\u001b[0mrun_metadata_ptr\u001b[0m\u001b[0;34m)\u001b[0m\u001b[0;34m\u001b[0m\u001b[0m\n",
      "\u001b[0;32m~/anaconda2/envs/py36/lib/python3.6/site-packages/tensorflow/python/client/session.py\u001b[0m in \u001b[0;36m_run\u001b[0;34m(self, handle, fetches, feed_dict, options, run_metadata)\u001b[0m\n\u001b[1;32m   1135\u001b[0m     \u001b[0;32mif\u001b[0m \u001b[0mfinal_fetches\u001b[0m \u001b[0;32mor\u001b[0m \u001b[0mfinal_targets\u001b[0m \u001b[0;32mor\u001b[0m \u001b[0;34m(\u001b[0m\u001b[0mhandle\u001b[0m \u001b[0;32mand\u001b[0m \u001b[0mfeed_dict_tensor\u001b[0m\u001b[0;34m)\u001b[0m\u001b[0;34m:\u001b[0m\u001b[0;34m\u001b[0m\u001b[0m\n\u001b[1;32m   1136\u001b[0m       results = self._do_run(handle, final_targets, final_fetches,\n\u001b[0;32m-> 1137\u001b[0;31m                              feed_dict_tensor, options, run_metadata)\n\u001b[0m\u001b[1;32m   1138\u001b[0m     \u001b[0;32melse\u001b[0m\u001b[0;34m:\u001b[0m\u001b[0;34m\u001b[0m\u001b[0m\n\u001b[1;32m   1139\u001b[0m       \u001b[0mresults\u001b[0m \u001b[0;34m=\u001b[0m \u001b[0;34m[\u001b[0m\u001b[0;34m]\u001b[0m\u001b[0;34m\u001b[0m\u001b[0m\n",
      "\u001b[0;32m~/anaconda2/envs/py36/lib/python3.6/site-packages/tensorflow/python/client/session.py\u001b[0m in \u001b[0;36m_do_run\u001b[0;34m(self, handle, target_list, fetch_list, feed_dict, options, run_metadata)\u001b[0m\n\u001b[1;32m   1353\u001b[0m     \u001b[0;32mif\u001b[0m \u001b[0mhandle\u001b[0m \u001b[0;32mis\u001b[0m \u001b[0;32mNone\u001b[0m\u001b[0;34m:\u001b[0m\u001b[0;34m\u001b[0m\u001b[0m\n\u001b[1;32m   1354\u001b[0m       return self._do_call(_run_fn, self._session, feeds, fetches, targets,\n\u001b[0;32m-> 1355\u001b[0;31m                            options, run_metadata)\n\u001b[0m\u001b[1;32m   1356\u001b[0m     \u001b[0;32melse\u001b[0m\u001b[0;34m:\u001b[0m\u001b[0;34m\u001b[0m\u001b[0m\n\u001b[1;32m   1357\u001b[0m       \u001b[0;32mreturn\u001b[0m \u001b[0mself\u001b[0m\u001b[0;34m.\u001b[0m\u001b[0m_do_call\u001b[0m\u001b[0;34m(\u001b[0m\u001b[0m_prun_fn\u001b[0m\u001b[0;34m,\u001b[0m \u001b[0mself\u001b[0m\u001b[0;34m.\u001b[0m\u001b[0m_session\u001b[0m\u001b[0;34m,\u001b[0m \u001b[0mhandle\u001b[0m\u001b[0;34m,\u001b[0m \u001b[0mfeeds\u001b[0m\u001b[0;34m,\u001b[0m \u001b[0mfetches\u001b[0m\u001b[0;34m)\u001b[0m\u001b[0;34m\u001b[0m\u001b[0m\n",
      "\u001b[0;32m~/anaconda2/envs/py36/lib/python3.6/site-packages/tensorflow/python/client/session.py\u001b[0m in \u001b[0;36m_do_call\u001b[0;34m(self, fn, *args)\u001b[0m\n\u001b[1;32m   1359\u001b[0m   \u001b[0;32mdef\u001b[0m \u001b[0m_do_call\u001b[0m\u001b[0;34m(\u001b[0m\u001b[0mself\u001b[0m\u001b[0;34m,\u001b[0m \u001b[0mfn\u001b[0m\u001b[0;34m,\u001b[0m \u001b[0;34m*\u001b[0m\u001b[0margs\u001b[0m\u001b[0;34m)\u001b[0m\u001b[0;34m:\u001b[0m\u001b[0;34m\u001b[0m\u001b[0m\n\u001b[1;32m   1360\u001b[0m     \u001b[0;32mtry\u001b[0m\u001b[0;34m:\u001b[0m\u001b[0;34m\u001b[0m\u001b[0m\n\u001b[0;32m-> 1361\u001b[0;31m       \u001b[0;32mreturn\u001b[0m \u001b[0mfn\u001b[0m\u001b[0;34m(\u001b[0m\u001b[0;34m*\u001b[0m\u001b[0margs\u001b[0m\u001b[0;34m)\u001b[0m\u001b[0;34m\u001b[0m\u001b[0m\n\u001b[0m\u001b[1;32m   1362\u001b[0m     \u001b[0;32mexcept\u001b[0m \u001b[0merrors\u001b[0m\u001b[0;34m.\u001b[0m\u001b[0mOpError\u001b[0m \u001b[0;32mas\u001b[0m \u001b[0me\u001b[0m\u001b[0;34m:\u001b[0m\u001b[0;34m\u001b[0m\u001b[0m\n\u001b[1;32m   1363\u001b[0m       \u001b[0mmessage\u001b[0m \u001b[0;34m=\u001b[0m \u001b[0mcompat\u001b[0m\u001b[0;34m.\u001b[0m\u001b[0mas_text\u001b[0m\u001b[0;34m(\u001b[0m\u001b[0me\u001b[0m\u001b[0;34m.\u001b[0m\u001b[0mmessage\u001b[0m\u001b[0;34m)\u001b[0m\u001b[0;34m\u001b[0m\u001b[0m\n",
      "\u001b[0;32m~/anaconda2/envs/py36/lib/python3.6/site-packages/tensorflow/python/client/session.py\u001b[0m in \u001b[0;36m_run_fn\u001b[0;34m(session, feed_dict, fetch_list, target_list, options, run_metadata)\u001b[0m\n\u001b[1;32m   1338\u001b[0m         \u001b[0;32melse\u001b[0m\u001b[0;34m:\u001b[0m\u001b[0;34m\u001b[0m\u001b[0m\n\u001b[1;32m   1339\u001b[0m           return tf_session.TF_Run(session, options, feed_dict, fetch_list,\n\u001b[0;32m-> 1340\u001b[0;31m                                    target_list, status, run_metadata)\n\u001b[0m\u001b[1;32m   1341\u001b[0m \u001b[0;34m\u001b[0m\u001b[0m\n\u001b[1;32m   1342\u001b[0m     \u001b[0;32mdef\u001b[0m \u001b[0m_prun_fn\u001b[0m\u001b[0;34m(\u001b[0m\u001b[0msession\u001b[0m\u001b[0;34m,\u001b[0m \u001b[0mhandle\u001b[0m\u001b[0;34m,\u001b[0m \u001b[0mfeed_dict\u001b[0m\u001b[0;34m,\u001b[0m \u001b[0mfetch_list\u001b[0m\u001b[0;34m)\u001b[0m\u001b[0;34m:\u001b[0m\u001b[0;34m\u001b[0m\u001b[0m\n",
      "\u001b[0;31mKeyboardInterrupt\u001b[0m: "
     ]
    }
   ],
   "source": [
    "hist = model_regress.fit_generator(my_generator(x_train_extended, np.expand_dims(y_train, axis = 3), 8),\n",
    "                           steps_per_epoch = 25,\n",
    "                           validation_data = (x_val_extended, np.expand_dims(y_val, axis = 3)),\n",
    "                           epochs=500, verbose=True)"
   ]
  },
  {
   "cell_type": "code",
   "execution_count": 11,
   "metadata": {},
   "outputs": [
    {
     "name": "stderr",
     "output_type": "stream",
     "text": [
      "100%|██████████| 670/670 [00:32<00:00, 20.77pair/s]\n"
     ]
    }
   ],
   "source": [
    "from deton8.pipeline import pipeline\n",
    "from deton8.components import watershed_cc\n",
    "x_train_output, test_metadata = pipeline('../data/training/')"
   ]
  },
  {
   "cell_type": "markdown",
   "metadata": {},
   "source": [
    "For segmentation, we decided to use a modified version of Watershed. We found that raw watershed produces too many local maxes, so we decided to iterate accross clusters of local maxes and select the maximum of the maxima. Thus, we split clusters as infrequently as possible. Below are the results of our entire semgentation pipeline."
   ]
  },
  {
   "cell_type": "code",
   "execution_count": 583,
   "metadata": {},
   "outputs": [
    {
     "data": {
      "image/png": "[encoded data removed]",
      "text/plain": [
       "<Figure size 1250x750 with 3 Axes>"
      ]
     },
     "metadata": {},
     "output_type": "display_data"
    }
   ],
   "source": [
    "num = 0\n",
    "plot_segmentation(x_val_transformed[num], postprocess(model_regress.predict(np.expand_dims(x_val_extended[num], axis=0)), min_area=10) > 0, y_val[num])"
   ]
  }
 ],
 "metadata": {
  "kernelspec": {
   "display_name": "Python 3",
   "language": "python",
   "name": "python3"
  },
  "language_info": {
   "codemirror_mode": {
    "name": "ipython",
    "version": 3
   },
   "file_extension": ".py",
   "mimetype": "text/x-python",
   "name": "python",
   "nbconvert_exporter": "python",
   "pygments_lexer": "ipython3",
   "version": "3.6.4"
  }
 },
 "nbformat": 4,
 "nbformat_minor": 2
}
